{
 "cells": [
  {
   "cell_type": "markdown",
   "metadata": {},
   "source": [
    "# Resolución Desafío - Giuliana Ruffa"
   ]
  },
  {
   "cell_type": "markdown",
   "metadata": {},
   "source": [
    "Se pide diseñar un filtro pasabajo que satisfaga la siguiente plantilla:\n",
    "\n",
    "    • ωp=500Hz\n",
    "    • ωs=1500Hz\n",
    "    • αmax=1dB\n",
    "    • αmin=18dB\n"
   ]
  },
  {
   "cell_type": "markdown",
   "metadata": {},
   "source": [
    "#### a) Determine si el siguiente diseño puede realizarse con una sola sección de segundo orden cuya respuesta de módulo es de **máxima planicidad**."
   ]
  },
  {
   "cell_type": "markdown",
   "metadata": {},
   "source": [
    "Para determinar si el siguiente diseño puede realizarse con una sola sección de segundo orden con una aproximación del tipo *máxima planicidad* debemos primero calcular el orden que requeriría el filtro para cumplir con dicha plantilla."
   ]
  },
  {
   "cell_type": "markdown",
   "metadata": {},
   "source": [
    "Para determinar esto, primero que nada establecemos como norma a *Ωp=500Hz* y así redefinimos *ωp=1* y *ωs=3Hz*."
   ]
  },
  {
   "cell_type": "markdown",
   "metadata": {},
   "source": [
    "Luego, despejamos el valor de *ϵ* para así determinar qué *orden n* requeriría nuestro filtro para cumplir con las condiciones de diseño. "
   ]
  },
  {
   "cell_type": "markdown",
   "metadata": {},
   "source": [
    "Desde $ϵ^2 = {10^{{αmax} /{10}}}-1$"
   ]
  },
  {
   "cell_type": "code",
   "execution_count": 23,
   "metadata": {},
   "outputs": [
    {
     "data": {
      "text/plain": [
       "0.2589"
      ]
     },
     "execution_count": 23,
     "metadata": {},
     "output_type": "execute_result"
    }
   ],
   "source": [
    "amax = 1\n",
    "\n",
    "ϵϵ = 10 ** (amax/10) - 1\n",
    "\n",
    "ϵϵ = round(ϵϵ, 4)\n",
    "\n",
    "ϵϵ"
   ]
  },
  {
   "cell_type": "markdown",
   "metadata": {},
   "source": [
    "Y a partir de esto, iteramos desde la ecuacion $αmin = {10 log ({{1} + {{ϵ^2}*{ωs^{{2n}}}}})}$ hasta obtener a cierto valor *n* una atenuación mayor o igual a *αmin*. \n",
    "Observamos que esto se da cuando **n = 3**:"
   ]
  },
  {
   "cell_type": "code",
   "execution_count": 6,
   "metadata": {},
   "outputs": [
    {
     "data": {
      "text/plain": [
       "22.7815"
      ]
     },
     "execution_count": 6,
     "metadata": {},
     "output_type": "execute_result"
    }
   ],
   "source": [
    "import math\n",
    "\n",
    "n = 3\n",
    "ws = 3\n",
    "\n",
    "atenuacion_minMP = 10 * math.log10 (1 + (ϵϵ * ws ** (2*n)))\n",
    "\n",
    "atenuacion_minMP = round (atenuacion_minMP, 4)\n",
    "\n",
    "atenuacion_minMP"
   ]
  },
  {
   "cell_type": "markdown",
   "metadata": {},
   "source": [
    "Por ende, determinamos que este filtro no se puede implementar con una sola sección de segundo orden ( *n=2* ), ya que para realizarlo se necesita además de esa sección, otra de primer orden."
   ]
  },
  {
   "cell_type": "markdown",
   "metadata": {},
   "source": [
    "#### b) Si el mismo diseño se planteara mediante una aproximación **Chebyshev**, se pide:\n",
    "\n",
    "   • la función transferencia normalizada\n",
    "    \n",
    "   • las respuestas de módulo, fase y la localización de polos y ceros"
   ]
  },
  {
   "cell_type": "markdown",
   "metadata": {},
   "source": [
    "Procedemos de la misma manera y despejamos el valor de ϵ para así determinar qué orden n requeriría nuestro filtro para cumplir con las condiciones de diseño."
   ]
  },
  {
   "cell_type": "markdown",
   "metadata": {},
   "source": [
    "Desde  $ϵ^2=10^{α𝑚𝑎𝑥/10}−1$, obtenemos que: $ϵ^2=0.2589$, como ya fue visto.\n",
    " "
   ]
  },
  {
   "cell_type": "markdown",
   "metadata": {},
   "source": [
    "Y a partir de esto, iteramos desde la ecuacion del $αmin = {10 log ({{1} + {{ϵ^2}*{cosh^{2}({{n*cos^{-1}(ws)}})}}})}$ hasta obtener a cierto valor *n* una atenuación mayor o igual a *αmin*. \n",
    "Observamos que esto se da cuando **n = 2**:"
   ]
  },
  {
   "cell_type": "code",
   "execution_count": 16,
   "metadata": {},
   "outputs": [
    {
     "data": {
      "text/plain": [
       "18.798"
      ]
     },
     "execution_count": 16,
     "metadata": {},
     "output_type": "execute_result"
    }
   ],
   "source": [
    "import math\n",
    "\n",
    "n = 2\n",
    "ws = 3\n",
    "\n",
    "atenuacion_minC = 10 * math.log10 (1 + (ϵϵ * (math.cosh (n * math.acosh (ws)))**2))\n",
    "\n",
    "atenuacion_minC = round (atenuacion_minC, 4)\n",
    "\n",
    "atenuacion_minC"
   ]
  },
  {
   "cell_type": "markdown",
   "metadata": {},
   "source": [
    "Por ende, si recordamos la función transferencia del Chebyshev: $|H(ω)|^2 = \\frac {1} { 1 + C_{n}^2(w)} $ y ampliamos el polinomio $Cn(w)$ para *n=2* obtenemos: $ C_{2}^2(w) = ϵ^2 * (2w^2 -1)^2 $."
   ]
  },
  {
   "cell_type": "markdown",
   "metadata": {},
   "source": [
    "Desarrollandolo nos da: $ C_{2}^2(w) = w^4 * 4ϵ^2 - w^2 * 4ϵ^2 + ϵ^2  $ que nos permite redefinir $|H(ω)|^2$ = $\\frac {1} { 1 + (w^4 * 4ϵ^2 - w^2 * 4ϵ^2 + ϵ^2)} $"
   ]
  },
  {
   "cell_type": "markdown",
   "metadata": {},
   "source": [
    "Entonces, llevamos la función al plano de Laplace para poder descifrar la transferencia normalizada de nuestro filtro a partir del método de los coeficientes. Recordamos que $|H(ω)|^2 $= $H(S)$ * $H(-S)$."
   ]
  },
  {
   "cell_type": "markdown",
   "metadata": {},
   "source": [
    "Así, $|H(ω)|^2$ para *w = S/j* resulta: $H(S)$ * $H(-S)$ = $\\frac {1} { S^4 * 4ϵ^2 - S^2 * 4ϵ^2 + ϵ^2 + 1 } $"
   ]
  },
  {
   "cell_type": "markdown",
   "metadata": {},
   "source": [
    "Por otra parte de forma genérica podemos expresar el mismo producto como $H(S)$ * $H(-S)$ = $\\frac {c} { S^2 * a + S * b+ c } $ * $\\frac {c} { S^2 * a - S * b + c } $ =  $\\frac {c^2} { S^4 * a^2 + S^2 * ( 2 *ac - b^2 ) + c^2 } $ "
   ]
  },
  {
   "cell_type": "markdown",
   "metadata": {},
   "source": [
    "Entonces podemos crear el siguiente sistema de ecuaciones:\n",
    "    \n",
    "* $a^2 = 4ϵ^2$\n",
    "* $2ac - b^2 = 4ϵ^2$\n",
    "* $c^2 = ϵ^2 + 1$"
   ]
  },
  {
   "cell_type": "markdown",
   "metadata": {},
   "source": [
    "Y lo resolvemos a despejando a continuación:"
   ]
  },
  {
   "cell_type": "code",
   "execution_count": 41,
   "metadata": {},
   "outputs": [
    {
     "data": {
      "text/plain": [
       "1.0176"
      ]
     },
     "execution_count": 41,
     "metadata": {},
     "output_type": "execute_result"
    }
   ],
   "source": [
    "import math\n",
    "\n",
    "ϵ = math.sqrt ( ϵϵ )\n",
    "\n",
    "a = 2*ϵ\n",
    "b = math.sqrt ( 4 * ϵ * math.sqrt(ϵ**2 + 1) - 4*ϵ**2)\n",
    "c = math.sqrt(ϵ**2 + 1)\n",
    "\n",
    "a = round(a, 4)\n",
    "\n",
    "a"
   ]
  },
  {
   "cell_type": "code",
   "execution_count": 42,
   "metadata": {},
   "outputs": [
    {
     "data": {
      "text/plain": [
       "1.1171"
      ]
     },
     "execution_count": 42,
     "metadata": {},
     "output_type": "execute_result"
    }
   ],
   "source": [
    "b = round(b, 4)\n",
    "\n",
    "b"
   ]
  },
  {
   "cell_type": "code",
   "execution_count": 44,
   "metadata": {},
   "outputs": [
    {
     "data": {
      "text/plain": [
       "1.122"
      ]
     },
     "execution_count": 44,
     "metadata": {},
     "output_type": "execute_result"
    }
   ],
   "source": [
    "c = round(c, 4)\n",
    "\n",
    "c"
   ]
  },
  {
   "cell_type": "markdown",
   "metadata": {},
   "source": [
    "De esta manera puedo establecer mi función transferencia como: $H(S)$ = $\\frac {1.122} { S^2 * 1.0176 + S * 1.1171 + 1.122 } $"
   ]
  },
  {
   "cell_type": "markdown",
   "metadata": {},
   "source": [
    "Que llevada a su forma mónica se expresa como: $H(S)$ = $\\frac {1.1026} { S^2 + S * 1.0978 + 1.1026 } $"
   ]
  },
  {
   "cell_type": "markdown",
   "metadata": {},
   "source": [
    "Luego, establecemos que $w_0 = (1.1026)^{1/2}$  y $ Q = \\frac {w_o}{1.0978}$"
   ]
  },
  {
   "cell_type": "markdown",
   "metadata": {},
   "source": [
    "Entonces, a partir de la función transferencia normalizada y con la ayuda del código brindado diagramamos las respuestas de *módulo, fase y la localización de polos y ceros.*"
   ]
  },
  {
   "cell_type": "code",
   "execution_count": 47,
   "metadata": {},
   "outputs": [
    {
     "data": {
      "image/png": "[encoded data removed]",
      "text/plain": [
       "<Figure size 432x288 with 2 Axes>"
      ]
     },
     "metadata": {
      "needs_background": "light"
     },
     "output_type": "display_data"
    },
    {
     "data": {
      "image/png": "[encoded data removed]",
      "text/plain": [
       "<Figure size 432x288 with 1 Axes>"
      ]
     },
     "metadata": {
      "needs_background": "light"
     },
     "output_type": "display_data"
    }
   ],
   "source": [
    "import numpy as np\n",
    "import matplotlib as mpl\n",
    "from matplotlib import pyplot as plt\n",
    "\n",
    "#%%  Inicialización de librerías\n",
    "# Setup inline graphics: Esto lo hacemos para que el tamaño de la salida, \n",
    "# sea un poco más adecuada al tamaño del documento\n",
    "mpl.rcParams['figure.figsize'] = (10,10)\n",
    "\n",
    "#%% Esto tiene que ver con cuestiones de presentación de los gráficos,\n",
    "# NO ES IMPORTANTE\n",
    "fig_sz_x = 14\n",
    "fig_sz_y = 13\n",
    "fig_dpi = 80 # dpi\n",
    "\n",
    "# módulo de SciPy\n",
    "from scipy import signal as sig\n",
    "\n",
    "\n",
    "# un módulo adaptado a mis necesidades\n",
    "from splane import bodePlot, pzmap\n",
    "        \n",
    "# Definimos los parámetros de la transferencia:\n",
    "\n",
    "# O bien en términos de los parámetros w0 y Q\n",
    "\n",
    "w0 = 1.0501\n",
    "Q = 0.9565\n",
    "\n",
    "# Cargamos la funcion transferencia\n",
    "\n",
    "num = np.array([ w0**2 ])\n",
    "den = np.array([ 1., w0 / Q, w0**2 ])\n",
    "\n",
    "######################################################\n",
    "# O podría ser en mediante los coeficientes del\n",
    "# numerador y denominador\n",
    "\n",
    "#num = np.array([ 1. ])\n",
    "#den = np.array([ 1., 0.5, 1.0 ])\n",
    "\n",
    "######################################################\n",
    "\n",
    "\n",
    "H = sig.TransferFunction( num, den )\n",
    "\n",
    "# Graficamos el diagrama de polos y ceros\n",
    "# Graficamos la respuesta en frecuencia para el modulo y la fase.\n",
    "\n",
    "%matplotlib inline\n",
    "_, axes_hdl = bodePlot(H)\n",
    "\n",
    "# para que se vea como uno intuye el módulo. Probar comentar las siguientes 2 líneas\n",
    "\n",
    "plt.sca(axes_hdl[0])\n",
    "#plt.ylim([-1,1])\n",
    "\n",
    "\n",
    "plt.gca\n",
    "\n",
    "pzmap(H)\n",
    "\n",
    "\n",
    "plt.show()\n",
    "\n"
   ]
  },
  {
   "cell_type": "markdown",
   "metadata": {},
   "source": [
    "#### c) Implemente el filtro solicitado mediante la siguiente red y corrobore su funcionamiento respecto a la plantilla de requerimientos."
   ]
  },
  {
   "cell_type": "markdown",
   "metadata": {},
   "source": [
    "Implementamos una ganancia de $K = 1$  y  los valores de los componentes $R = C = 1 $, para poder corroborar el funcionamiento de la plantilla. "
   ]
  },
  {
   "cell_type": "markdown",
   "metadata": {},
   "source": [
    "A partir de eso despejamos también los valores de los demás componentes: $\\frac {R}{K} = 1$,  $Q * R = 0,9565 * 1 = 0.9565$ y por último, $R1 = \\frac {1}{w_0 * C} = \\frac {1}{1.0501 * 1}  = 0.9523$"
   ]
  },
  {
   "cell_type": "markdown",
   "metadata": {},
   "source": [
    "Luego, procedemos a simular el circuito en *LTSpice*."
   ]
  },
  {
   "cell_type": "code",
   "execution_count": null,
   "metadata": {},
   "outputs": [],
   "source": []
  }
 ],
 "metadata": {
  "kernelspec": {
   "display_name": "Python 3",
   "language": "python",
   "name": "python3"
  },
  "language_info": {
   "codemirror_mode": {
    "name": "ipython",
    "version": 3
   },
   "file_extension": ".py",
   "mimetype": "text/x-python",
   "name": "python",
   "nbconvert_exporter": "python",
   "pygments_lexer": "ipython3",
   "version": "3.7.6"
  }
 },
 "nbformat": 4,
 "nbformat_minor": 4
}
